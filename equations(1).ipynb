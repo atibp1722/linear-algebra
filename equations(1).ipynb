{
 "cells": [
  {
   "cell_type": "code",
   "execution_count": 5,
   "id": "408e5898-eabe-49aa-a758-a96b56f87f2b",
   "metadata": {},
   "outputs": [],
   "source": [
    "import numpy as np\n",
    "import random"
   ]
  },
  {
   "cell_type": "code",
   "execution_count": 7,
   "id": "aaffc176-1264-4557-9fce-4e57d63bc0e3",
   "metadata": {},
   "outputs": [
    {
     "name": "stdout",
     "output_type": "stream",
     "text": [
      "Matrix rep of A:\n",
      " [[1.+2.j 2.-1.j]\n",
      " [3.-1.j 4.+0.j]]\n",
      "Matrix rep of B:\n",
      " [4.+1.j 3.+4.j]\n",
      "Matrix rep of soln:\n",
      " [-0.11176471-0.45294118j  0.94705882+1.31176471j]\n"
     ]
    }
   ],
   "source": [
    "# complex equation\n",
    "a=np.array([[1+2j,2-1j],[3-1j,4]])\n",
    "print('Matrix rep of A:\\n',a)\n",
    "b=np.array([4+1j,3+4j])\n",
    "print('Matrix rep of B:\\n',b)\n",
    "\n",
    "soln_x=np.linalg.solve(a,b)\n",
    "print('Matrix rep of soln:\\n',soln_x)"
   ]
  },
  {
   "cell_type": "code",
   "execution_count": 8,
   "id": "a9f5d20c-6515-4a00-950e-7ade39c43256",
   "metadata": {},
   "outputs": [
    {
     "data": {
      "text/plain": [
       "array([[0.11557204, 0.67416969, 0.06548034],\n",
       "       [0.16459525, 0.89440288, 0.05785307],\n",
       "       [0.38492322, 0.32345754, 0.01193952],\n",
       "       [0.27709955, 0.96954939, 0.10635704]])"
      ]
     },
     "execution_count": 8,
     "metadata": {},
     "output_type": "execute_result"
    }
   ],
   "source": [
    "data=np.random.rand(4,3)\n",
    "data"
   ]
  },
  {
   "cell_type": "code",
   "execution_count": 10,
   "id": "ec74b775-d274-40d9-a329-cdce0a9668c5",
   "metadata": {},
   "outputs": [
    {
     "data": {
      "text/plain": [
       "SVDResult(U=array([[-0.43312467,  0.23278268,  0.11194798, -0.86352932],\n",
       "       [-0.57498228,  0.26748647, -0.72586228,  0.26640254],\n",
       "       [-0.26285402, -0.93491833, -0.18943235, -0.14474413],\n",
       "       [-0.64242211, -0.01381779,  0.65169546,  0.40298378]]), S=array([1.57798543, 0.30414036, 0.03256155]), Vh=array([[-0.26862729, -0.9595446 , -0.08434178],\n",
       "       [-0.96261643,  0.26426048,  0.05946433],\n",
       "       [ 0.03477048, -0.09716253,  0.99466098]]))"
      ]
     },
     "execution_count": 10,
     "metadata": {},
     "output_type": "execute_result"
    }
   ],
   "source": [
    "# applying svd on the matrix\n",
    "np.linalg.svd(data)"
   ]
  },
  {
   "cell_type": "code",
   "execution_count": 12,
   "id": "9c1966cb-bf44-4180-abdc-bd4bb1b74161",
   "metadata": {},
   "outputs": [
    {
     "name": "stdout",
     "output_type": "stream",
     "text": [
      "U matrix:\n",
      " [[-0.43312467  0.23278268  0.11194798 -0.86352932]\n",
      " [-0.57498228  0.26748647 -0.72586228  0.26640254]\n",
      " [-0.26285402 -0.93491833 -0.18943235 -0.14474413]\n",
      " [-0.64242211 -0.01381779  0.65169546  0.40298378]]\n",
      "Sigma matrix:\n",
      " [1.57798543 0.30414036 0.03256155]\n",
      "VT matrix:\n",
      " [[-0.26862729 -0.9595446  -0.08434178]\n",
      " [-0.96261643  0.26426048  0.05946433]\n",
      " [ 0.03477048 -0.09716253  0.99466098]]\n"
     ]
    }
   ],
   "source": [
    "u,sigma,vt=np.linalg.svd(data)\n",
    "print('U matrix:\\n',u)\n",
    "print('Sigma matrix:\\n',sigma)\n",
    "print('VT matrix:\\n',vt)"
   ]
  },
  {
   "cell_type": "code",
   "execution_count": 13,
   "id": "cfc8a0d2-7b2d-49ea-9caa-f20afb0cabde",
   "metadata": {},
   "outputs": [],
   "source": [
    "import matplotlib.pyplot as plt"
   ]
  },
  {
   "cell_type": "code",
   "execution_count": null,
   "id": "11727a82-921c-477f-a3ff-69eff0526f34",
   "metadata": {},
   "outputs": [],
   "source": []
  },
  {
   "cell_type": "code",
   "execution_count": null,
   "id": "aa40d962-3bfc-4e60-86aa-acf23b9f4b24",
   "metadata": {},
   "outputs": [],
   "source": []
  },
  {
   "cell_type": "code",
   "execution_count": null,
   "id": "9f326c0a-ef7d-4ff3-b8c8-c7ae95b1f2ad",
   "metadata": {},
   "outputs": [],
   "source": []
  },
  {
   "cell_type": "code",
   "execution_count": null,
   "id": "3e29c631-6d1a-4be1-b1c7-575156918839",
   "metadata": {},
   "outputs": [],
   "source": []
  }
 ],
 "metadata": {
  "kernelspec": {
   "display_name": "Python 3 (ipykernel)",
   "language": "python",
   "name": "python3"
  },
  "language_info": {
   "codemirror_mode": {
    "name": "ipython",
    "version": 3
   },
   "file_extension": ".py",
   "mimetype": "text/x-python",
   "name": "python",
   "nbconvert_exporter": "python",
   "pygments_lexer": "ipython3",
   "version": "3.13.5"
  }
 },
 "nbformat": 4,
 "nbformat_minor": 5
}
