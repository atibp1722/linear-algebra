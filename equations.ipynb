{
 "cells": [
  {
   "cell_type": "code",
   "execution_count": 1,
   "id": "84fba600-9410-44c0-935f-436058a70613",
   "metadata": {},
   "outputs": [
    {
     "name": "stdout",
     "output_type": "stream",
     "text": [
      "Requirement already satisfied: sympy in c:\\users\\atibp\\anaconda3\\lib\\site-packages (1.13.3)Note: you may need to restart the kernel to use updated packages.\n",
      "\n",
      "Requirement already satisfied: mpmath<1.4,>=1.1.0 in c:\\users\\atibp\\anaconda3\\lib\\site-packages (from sympy) (1.3.0)\n"
     ]
    }
   ],
   "source": [
    "pip install sympy"
   ]
  },
  {
   "cell_type": "markdown",
   "id": "e336766e-edea-4d73-bf3a-f2e34aa50aaf",
   "metadata": {},
   "source": [
    "from sympy import *"
   ]
  },
  {
   "cell_type": "code",
   "execution_count": 5,
   "id": "6033edd2-5145-4f1d-b83e-9d100dc758cf",
   "metadata": {},
   "outputs": [
    {
     "data": {
      "text/plain": [
       "[-sqrt(2), sqrt(2)]"
      ]
     },
     "execution_count": 5,
     "metadata": {},
     "output_type": "execute_result"
    }
   ],
   "source": [
    "x=symbols('x')\n",
    "\n",
    "eqn=2*x**2-4\n",
    "solve(eqn,x)"
   ]
  },
  {
   "cell_type": "markdown",
   "id": "9de54eaa-cd69-475d-b0be-ef853cbd3e99",
   "metadata": {},
   "source": [
    "### eqns with one solution"
   ]
  },
  {
   "cell_type": "code",
   "execution_count": 16,
   "id": "cff477ae-6dfe-48a3-8377-4423d2db07ff",
   "metadata": {},
   "outputs": [
    {
     "name": "stdin",
     "output_type": "stream",
     "text": [
      "Enter any equation to solve:  4*x-12\n"
     ]
    },
    {
     "name": "stdout",
     "output_type": "stream",
     "text": [
      "possible solution for [x] = [3]\n"
     ]
    }
   ],
   "source": [
    "eqn=input('Enter any equation to solve: ')\n",
    "print('possible solution for [x] =',solve(eqn,x))"
   ]
  },
  {
   "cell_type": "markdown",
   "id": "6cad6c45-b823-47f9-8c9e-502450a9a214",
   "metadata": {},
   "source": [
    "### eqns with multiple solutions"
   ]
  },
  {
   "cell_type": "code",
   "execution_count": 15,
   "id": "1d991b16-718a-422f-9de2-2114bbad24c9",
   "metadata": {},
   "outputs": [
    {
     "name": "stdin",
     "output_type": "stream",
     "text": [
      "Enter any equation to solve:  (x-1)*(x+2)*(x-3)\n"
     ]
    },
    {
     "name": "stdout",
     "output_type": "stream",
     "text": [
      "possible solution for [x] = -2\n",
      "possible solution for [x] = 1\n",
      "possible solution for [x] = 3\n"
     ]
    }
   ],
   "source": [
    "eqn=input('Enter any equation to solve: ')\n",
    "\n",
    "soln=solve(eqn,x)\n",
    "for i in soln:\n",
    "    print('possible solution for [x] =',i)"
   ]
  },
  {
   "cell_type": "markdown",
   "id": "9898b94b-5bec-4ff4-9ed4-2e9f3ccb1df2",
   "metadata": {},
   "source": [
    "### solving eqns and factors"
   ]
  },
  {
   "cell_type": "code",
   "execution_count": 19,
   "id": "6e12f8c0-6a27-44e9-8539-46ba06fcbbb4",
   "metadata": {},
   "outputs": [
    {
     "name": "stdout",
     "output_type": "stream",
     "text": [
      "possible solution for [x] = -4\n"
     ]
    }
   ],
   "source": [
    "var('x y')\n",
    "\n",
    "feq=3*x+12\n",
    "eq1=Eq(feq,0)\n",
    "soln=solve(eq1,x)\n",
    "\n",
    "print('possible solution for [x] =', soln[0])"
   ]
  },
  {
   "cell_type": "code",
   "execution_count": 22,
   "id": "f77fc242-6e1c-4527-89d0-5bae65dac0a4",
   "metadata": {},
   "outputs": [
    {
     "data": {
      "text/latex": [
       "$\\displaystyle 3 \\left(x + 4 y + 1\\right)$"
      ],
      "text/plain": [
       "3*(x + 4*y + 1)"
      ]
     },
     "execution_count": 22,
     "metadata": {},
     "output_type": "execute_result"
    }
   ],
   "source": [
    "import sympy\n",
    "\n",
    "var('x y')\n",
    "\n",
    "eqn=3*x+12*y+3\n",
    "sympy.factor(eqn)"
   ]
  },
  {
   "cell_type": "code",
   "execution_count": 23,
   "id": "d18f4922-6101-48ef-89ec-14fc77a3431b",
   "metadata": {},
   "outputs": [
    {
     "data": {
      "text/latex": [
       "$\\displaystyle \\left(x - 3\\right) \\left(x + 3\\right)$"
      ],
      "text/plain": [
       "(x - 3)*(x + 3)"
      ]
     },
     "execution_count": 23,
     "metadata": {},
     "output_type": "execute_result"
    }
   ],
   "source": [
    "var('x y')\n",
    "\n",
    "eqn=x**2-9\n",
    "sympy.factor(eqn)"
   ]
  },
  {
   "cell_type": "markdown",
   "id": "43b61573-7fcb-4c26-9eef-12de8d88db25",
   "metadata": {},
   "source": [
    "### convert a fraction into float"
   ]
  },
  {
   "cell_type": "code",
   "execution_count": 46,
   "id": "ce40f40f-88f5-403d-8026-76e514b3dbf1",
   "metadata": {},
   "outputs": [],
   "source": [
    "# function to convert a string input in form of (x/y) into float value\n",
    "def string_frac(in_string):\n",
    "    # split the values in numerator and denominator\n",
    "    if \"/\" in in_string:\n",
    "        nd=in_string.split(\"/\")\n",
    "        # convert to a number\n",
    "        n=float(nd[0])\n",
    "        d=float(nd[1])\n",
    "        # division result\n",
    "        answer=n/d\n",
    "        return answer\n",
    "    else:\n",
    "        # no need if it is already a number\n",
    "        answer=float(in_string)\n",
    "        return answer\n",
    "\n",
    "def one_step_add():\n",
    "    # create equations with randomized values\n",
    "    import random\n",
    "    a=random.randint(-5,10)\n",
    "    b=random.randint(2,24)\n",
    "    # display equation to the user\n",
    "    print(\"x +\",a,\"=\",b)\n",
    "    # ask user for input\n",
    "    answer=float(input(\"x = \"))\n",
    "    # actual correct answer\n",
    "    ans=b-a\n",
    "    # check if user input is right or wrong\n",
    "    if answer==ans:\n",
    "        print(\"correct\")\n",
    "    else:\n",
    "        print(\"incorrect, try again\")\n",
    "        print(\"correct answer was\",ans)\n",
    "\n",
    "def one_step_sub():\n",
    "    import random\n",
    "    a=random.randint(-19,-1)\n",
    "    b=random.randint(2,24)\n",
    "    print(a,\" + x = \",b)\n",
    "    answer_in=input(\"x = \")\n",
    "    ans=b-a\n",
    "    # user input convert to number\n",
    "    if string_frac(answer_in)==ans:\n",
    "        print(\"correct\")\n",
    "    else:\n",
    "        print(\"incorrect, try again\")\n",
    "        print(\"correct answer was\",ans)\n",
    "\n",
    "def one_step_multiply():\n",
    "    import random\n",
    "    a=random.randint(1,11)\n",
    "    b=random.randint(2,24)\n",
    "    print(a,\"* x =\",b)\n",
    "    answer_in=input(\"x = \")\n",
    "    ans=b/a\n",
    "    if string_frac(answer_in)==ans:\n",
    "        print(\"correct\")\n",
    "    else:\n",
    "        print(\"incorrect, try again\")\n",
    "        print(\"correct answer was\",ans)"
   ]
  },
  {
   "cell_type": "code",
   "execution_count": 30,
   "id": "1a717d66-5ecc-458e-85de-3726d5625d93",
   "metadata": {},
   "outputs": [
    {
     "name": "stdout",
     "output_type": "stream",
     "text": [
      "0.4\n",
      "5.0\n"
     ]
    }
   ],
   "source": [
    "print(string_frac(\"2/5\"))\n",
    "print(string_frac(\"5\"))"
   ]
  },
  {
   "cell_type": "code",
   "execution_count": 35,
   "id": "ce11d638-05a9-40e7-8572-71f105fb0aee",
   "metadata": {},
   "outputs": [
    {
     "name": "stdout",
     "output_type": "stream",
     "text": [
      "x + 0 = 10\n"
     ]
    },
    {
     "name": "stdin",
     "output_type": "stream",
     "text": [
      "x =  10\n"
     ]
    },
    {
     "name": "stdout",
     "output_type": "stream",
     "text": [
      "correct\n"
     ]
    }
   ],
   "source": [
    "one_step_add()"
   ]
  },
  {
   "cell_type": "code",
   "execution_count": 49,
   "id": "d37d443d-b257-4df0-8bb6-b51202633e88",
   "metadata": {},
   "outputs": [
    {
     "name": "stdout",
     "output_type": "stream",
     "text": [
      "-10  + x =  19\n"
     ]
    },
    {
     "name": "stdin",
     "output_type": "stream",
     "text": [
      "x =  29\n"
     ]
    },
    {
     "name": "stdout",
     "output_type": "stream",
     "text": [
      "correct\n"
     ]
    }
   ],
   "source": [
    "one_step_sub()"
   ]
  },
  {
   "cell_type": "code",
   "execution_count": 44,
   "id": "8ac7a94b-0af5-4fbd-ad70-95677eed0575",
   "metadata": {},
   "outputs": [
    {
     "name": "stdout",
     "output_type": "stream",
     "text": [
      "10 * x = 10\n"
     ]
    },
    {
     "name": "stdin",
     "output_type": "stream",
     "text": [
      "x =  1\n"
     ]
    },
    {
     "name": "stdout",
     "output_type": "stream",
     "text": [
      "correct\n"
     ]
    }
   ],
   "source": [
    "one_step_multiply()"
   ]
  },
  {
   "cell_type": "code",
   "execution_count": null,
   "id": "47808bb3-8790-41a2-ba7d-c90c51e63706",
   "metadata": {},
   "outputs": [],
   "source": []
  },
  {
   "cell_type": "code",
   "execution_count": null,
   "id": "4c11aa12-cdc1-4581-afef-3d94193358d2",
   "metadata": {},
   "outputs": [],
   "source": []
  }
 ],
 "metadata": {
  "kernelspec": {
   "display_name": "Python 3 (ipykernel)",
   "language": "python",
   "name": "python3"
  },
  "language_info": {
   "codemirror_mode": {
    "name": "ipython",
    "version": 3
   },
   "file_extension": ".py",
   "mimetype": "text/x-python",
   "name": "python",
   "nbconvert_exporter": "python",
   "pygments_lexer": "ipython3",
   "version": "3.13.5"
  }
 },
 "nbformat": 4,
 "nbformat_minor": 5
}
