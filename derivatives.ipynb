{
 "cells": [
  {
   "cell_type": "code",
   "execution_count": 2,
   "id": "aeaa5cae-62b5-45b0-a823-f1c2d614a722",
   "metadata": {},
   "outputs": [],
   "source": [
    "from sympy import *\n",
    "import sympy as sp"
   ]
  },
  {
   "cell_type": "code",
   "execution_count": 6,
   "id": "f4d077dc-3844-4560-bfc2-c3879d6da875",
   "metadata": {},
   "outputs": [],
   "source": [
    "a,b=sp.symbols('a b')"
   ]
  },
  {
   "cell_type": "code",
   "execution_count": 8,
   "id": "c7a526dc-3f3c-48fc-b22f-27cdb9f81a9f",
   "metadata": {},
   "outputs": [
    {
     "data": {
      "text/latex": [
       "$\\displaystyle e^{3 a} + \\sin{\\left(a \\right)}$"
      ],
      "text/plain": [
       "exp(3*a) + sin(a)"
      ]
     },
     "execution_count": 8,
     "metadata": {},
     "output_type": "execute_result"
    }
   ],
   "source": [
    "expr=sp.exp(3*a)+sp.sin(a)\n",
    "expr"
   ]
  },
  {
   "cell_type": "code",
   "execution_count": 10,
   "id": "2b04c2f6-ec73-452d-8953-0a639d1934e1",
   "metadata": {},
   "outputs": [
    {
     "data": {
      "text/latex": [
       "$\\displaystyle 3 e^{3 a} + \\cos{\\left(a \\right)}$"
      ],
      "text/plain": [
       "3*exp(3*a) + cos(a)"
      ]
     },
     "execution_count": 10,
     "metadata": {},
     "output_type": "execute_result"
    }
   ],
   "source": [
    "# differentiation with respect to a\n",
    "sp.diff(expr)"
   ]
  },
  {
   "cell_type": "code",
   "execution_count": 20,
   "id": "12726a93-feff-4979-882a-baf9c0c1aca0",
   "metadata": {},
   "outputs": [
    {
     "data": {
      "text/latex": [
       "$\\displaystyle 27 e^{3 a} - \\cos{\\left(a \\right)}$"
      ],
      "text/plain": [
       "27*exp(3*a) - cos(a)"
      ]
     },
     "execution_count": 20,
     "metadata": {},
     "output_type": "execute_result"
    }
   ],
   "source": [
    "# multi-time differentiation\n",
    "sp.diff(expr,a,a,a)"
   ]
  },
  {
   "cell_type": "code",
   "execution_count": 21,
   "id": "c7bf7b8c-ea9e-45dc-89d0-46e70ca976eb",
   "metadata": {},
   "outputs": [
    {
     "data": {
      "text/latex": [
       "$\\displaystyle 27 e^{3 a} - \\cos{\\left(a \\right)}$"
      ],
      "text/plain": [
       "27*exp(3*a) - cos(a)"
      ]
     },
     "execution_count": 21,
     "metadata": {},
     "output_type": "execute_result"
    }
   ],
   "source": [
    "# differentiation using number\n",
    "sp.diff(expr,a,3)"
   ]
  },
  {
   "cell_type": "code",
   "execution_count": null,
   "id": "81c2ee9d-eda3-456c-a829-1b074573b9b7",
   "metadata": {},
   "outputs": [],
   "source": []
  },
  {
   "cell_type": "code",
   "execution_count": 23,
   "id": "1ee7ef7c-880d-4472-87ce-33e14db3122a",
   "metadata": {},
   "outputs": [
    {
     "data": {
      "text/latex": [
       "$\\displaystyle e^{- \\frac{e^{a}}{3}} e^{\\sinh{\\left(a \\right)}}$"
      ],
      "text/plain": [
       "exp(-exp(a)/3)*exp(sinh(a))"
      ]
     },
     "execution_count": 23,
     "metadata": {},
     "output_type": "execute_result"
    }
   ],
   "source": [
    "expr=sp.exp(sp.sinh(a))/sp.exp(sp.exp(a)/3)\n",
    "expr"
   ]
  },
  {
   "cell_type": "code",
   "execution_count": 27,
   "id": "e865f91c-d8cd-4f8a-9532-eee9ecda187f",
   "metadata": {},
   "outputs": [
    {
     "data": {
      "text/latex": [
       "$\\displaystyle e^{\\frac{e^{a}}{2} - \\frac{e^{- a}}{2}} e^{- \\frac{e^{a}}{3}}$"
      ],
      "text/plain": [
       "exp(exp(a)/2 - exp(-a)/2)*exp(-exp(a)/3)"
      ]
     },
     "execution_count": 27,
     "metadata": {},
     "output_type": "execute_result"
    }
   ],
   "source": [
    "# rewrite as exponential function\n",
    "expr1=expr.rewrite(sp.exp)\n",
    "expr1"
   ]
  },
  {
   "cell_type": "code",
   "execution_count": 29,
   "id": "428cbb70-c01c-4789-a177-d2e00c30b859",
   "metadata": {},
   "outputs": [
    {
     "data": {
      "text/latex": [
       "$\\displaystyle e^{\\frac{\\left(e^{2 a} - 3\\right) e^{- a}}{6}}$"
      ],
      "text/plain": [
       "exp((exp(2*a) - 3)*exp(-a)/6)"
      ]
     },
     "execution_count": 29,
     "metadata": {},
     "output_type": "execute_result"
    }
   ],
   "source": [
    "# combine the exponents into a sum\n",
    "expr1.simplify()"
   ]
  },
  {
   "cell_type": "code",
   "execution_count": null,
   "id": "72e66e06-c387-4a7d-b7f2-52f5aa8f289e",
   "metadata": {},
   "outputs": [],
   "source": []
  },
  {
   "cell_type": "code",
   "execution_count": 30,
   "id": "84c64f97-f19b-4eb7-a014-daf5e542f203",
   "metadata": {},
   "outputs": [
    {
     "data": {
      "text/latex": [
       "$\\displaystyle \\cos{\\left(a \\right)} \\cot^{2}{\\left(2 b \\right)}$"
      ],
      "text/plain": [
       "cos(a)*cot(2*b)**2"
      ]
     },
     "execution_count": 30,
     "metadata": {},
     "output_type": "execute_result"
    }
   ],
   "source": [
    "# multivaraible derivative function\n",
    "var_t=sp.cos(a)*sp.cot(2*b)**2\n",
    "var_t"
   ]
  },
  {
   "cell_type": "code",
   "execution_count": 32,
   "id": "48d1d7e9-6519-47fc-9444-34e739f0c17c",
   "metadata": {},
   "outputs": [
    {
     "data": {
      "text/latex": [
       "$\\displaystyle \\left(- 4 \\cot^{2}{\\left(2 b \\right)} - 4\\right) \\cos{\\left(a \\right)} \\cot{\\left(2 b \\right)}$"
      ],
      "text/plain": [
       "(-4*cot(2*b)**2 - 4)*cos(a)*cot(2*b)"
      ]
     },
     "execution_count": 32,
     "metadata": {},
     "output_type": "execute_result"
    }
   ],
   "source": [
    "# differentiation with respect to b\n",
    "d_b=var_t.diff(b)\n",
    "d_b"
   ]
  },
  {
   "cell_type": "code",
   "execution_count": 34,
   "id": "3baf708c-92f4-407d-983a-6b958386d58d",
   "metadata": {},
   "outputs": [
    {
     "data": {
      "text/latex": [
       "$\\displaystyle \\frac{\\left(-4 - \\frac{\\sin^{2}{\\left(4 b \\right)}}{\\sin^{4}{\\left(2 b \\right)}}\\right) \\sin{\\left(4 b \\right)} \\sin{\\left(a + \\frac{\\pi}{2} \\right)}}{2 \\sin^{2}{\\left(2 b \\right)}}$"
      ],
      "text/plain": [
       "(-4 - sin(4*b)**2/sin(2*b)**4)*sin(4*b)*sin(a + pi/2)/(2*sin(2*b)**2)"
      ]
     },
     "execution_count": 34,
     "metadata": {},
     "output_type": "execute_result"
    }
   ],
   "source": [
    "# rewriting the equation without simplifying\n",
    "d_b.rewrite(sp.sin)"
   ]
  },
  {
   "cell_type": "code",
   "execution_count": 37,
   "id": "bdf28e7c-1552-499a-ba86-fa34f820f24b",
   "metadata": {},
   "outputs": [
    {
     "data": {
      "text/latex": [
       "$\\displaystyle - \\frac{4 \\cos{\\left(a \\right)} \\cot{\\left(2 b \\right)}}{\\sin^{2}{\\left(2 b \\right)}}$"
      ],
      "text/plain": [
       "-4*cos(a)*cot(2*b)/sin(2*b)**2"
      ]
     },
     "execution_count": 37,
     "metadata": {},
     "output_type": "execute_result"
    }
   ],
   "source": [
    "# rewriting the equation by simplifying\n",
    "simpl=d_b.simplify()\n",
    "simpl"
   ]
  },
  {
   "cell_type": "code",
   "execution_count": 39,
   "id": "a8aed44b-8b51-429c-90ab-e1065eec824b",
   "metadata": {},
   "outputs": [
    {
     "data": {
      "text/latex": [
       "$\\displaystyle - \\frac{2 \\sin{\\left(4 b \\right)} \\sin{\\left(a + \\frac{\\pi}{2} \\right)}}{\\sin^{4}{\\left(2 b \\right)}}$"
      ],
      "text/plain": [
       "-2*sin(4*b)*sin(a + pi/2)/sin(2*b)**4"
      ]
     },
     "execution_count": 39,
     "metadata": {},
     "output_type": "execute_result"
    }
   ],
   "source": [
    "# rewrite after simplifying\n",
    "simpl.rewrite(sp.sin)"
   ]
  },
  {
   "cell_type": "markdown",
   "id": "f98ccc63-60b2-46bd-94cb-0348f6a015ed",
   "metadata": {},
   "source": [
    "### Visualization using plot"
   ]
  },
  {
   "cell_type": "code",
   "execution_count": 40,
   "id": "c16b2c7d-1380-49bc-a326-ea9650721f0a",
   "metadata": {},
   "outputs": [],
   "source": [
    "import numpy as np \n",
    "import matplotlib.pyplot as plt"
   ]
  },
  {
   "cell_type": "code",
   "execution_count": 56,
   "id": "9f571e15-ed9a-48ae-a45c-404c51628c10",
   "metadata": {},
   "outputs": [
    {
     "data": {
      "image/png": "[encoded data removed]",
      "text/plain": [
       "<Figure size 800x500 with 1 Axes>"
      ]
     },
     "metadata": {},
     "output_type": "display_data"
    }
   ],
   "source": [
    "x=np.linspace(-2,2,500)\n",
    "expr=np.exp(3*x)+np.sin(x)\n",
    "\n",
    "plt.figure(figsize=(8,5))\n",
    "plt.plot(x,expr,label=r'$e^{3a}+\\sin(a)$')\n",
    "plt.xlabel('a')\n",
    "plt.ylabel('Y')\n",
    "plt.title('[$e^{3a} + \\sin(a)$] equation plot')\n",
    "plt.grid(True)\n",
    "plt.legend()\n",
    "\n",
    "plt.show()"
   ]
  },
  {
   "cell_type": "code",
   "execution_count": 63,
   "id": "1acf90a4-7e96-4e55-b702-88ec3f06a44d",
   "metadata": {},
   "outputs": [
    {
     "data": {
      "image/png": "[encoded data removed]",
      "text/plain": [
       "<Figure size 800x500 with 1 Axes>"
      ]
     },
     "metadata": {},
     "output_type": "display_data"
    }
   ],
   "source": [
    "x2=np.linspace(-2,2,500)\n",
    "expr=3*np.exp(3*x2)+np.cos(x2)\n",
    "\n",
    "plt.figure(figsize=(8,5))\n",
    "plt.plot(x2,expr,label=r'$3e^{3a}+\\cos(a)$')\n",
    "plt.xlabel('a')\n",
    "plt.ylabel('Y')\n",
    "plt.title('[$3e^{3a} + \\cos(a)$] differentiation with respect to a')\n",
    "plt.grid(True)\n",
    "plt.legend()\n",
    "\n",
    "plt.show()"
   ]
  },
  {
   "cell_type": "code",
   "execution_count": null,
   "id": "3bbc24ea-f224-4017-bc55-b24fc0077eb2",
   "metadata": {},
   "outputs": [],
   "source": []
  },
  {
   "cell_type": "code",
   "execution_count": null,
   "id": "217dd922-6002-4fae-a1b8-389efddfa925",
   "metadata": {},
   "outputs": [],
   "source": []
  },
  {
   "cell_type": "code",
   "execution_count": null,
   "id": "b5093fbf-4244-4bc5-8366-b527ebfb9177",
   "metadata": {},
   "outputs": [],
   "source": []
  }
 ],
 "metadata": {
  "kernelspec": {
   "display_name": "Python 3 (ipykernel)",
   "language": "python",
   "name": "python3"
  },
  "language_info": {
   "codemirror_mode": {
    "name": "ipython",
    "version": 3
   },
   "file_extension": ".py",
   "mimetype": "text/x-python",
   "name": "python",
   "nbconvert_exporter": "python",
   "pygments_lexer": "ipython3",
   "version": "3.13.5"
  }
 },
 "nbformat": 4,
 "nbformat_minor": 5
}
