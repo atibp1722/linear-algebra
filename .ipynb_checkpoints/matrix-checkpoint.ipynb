{
 "cells": [
  {
   "cell_type": "code",
   "execution_count": 1,
   "id": "42683dcf-f37b-4fe6-801c-00be93ca4e7d",
   "metadata": {},
   "outputs": [
    {
     "name": "stdout",
     "output_type": "stream",
     "text": [
      "[2, 4, 6]\n",
      "[4, 6, 8]\n",
      "[6, 8, 10]\n"
     ]
    }
   ],
   "source": [
    "a=[\n",
    "    [1,2,3],\n",
    "    [2,3,4],\n",
    "    [3,4,5]\n",
    "]\n",
    "\n",
    "b=[\n",
    "    [1,2,3],\n",
    "    [2,3,4],\n",
    "    [3,4,5]\n",
    "]\n",
    "\n",
    "result=[\n",
    "    [0,0,0],\n",
    "    [0,0,0],\n",
    "    [0,0,0]\n",
    "]\n",
    "\n",
    "for i in range(len(a)):\n",
    "    for j in range(len(a[0])):\n",
    "        result[i][j]=a[i][j]+b[i][j]\n",
    "\n",
    "for res in result:\n",
    "    print(res)"
   ]
  },
  {
   "cell_type": "code",
   "execution_count": 13,
   "id": "6f62c125-da6a-418e-b980-0200a489d56a",
   "metadata": {},
   "outputs": [
    {
     "name": "stdout",
     "output_type": "stream",
     "text": [
      "[30, 36, 42]\n",
      "[66, 81, 96]\n",
      "[102, 126, 150]\n"
     ]
    }
   ],
   "source": [
    "a=[\n",
    "    [1,2,3],\n",
    "    [4,5,6],\n",
    "    [7,8,9]\n",
    "]\n",
    "\n",
    "b=[\n",
    "    [1,2,3],\n",
    "    [4,5,6],\n",
    "    [7,8,9]\n",
    "]\n",
    "\n",
    "result=[\n",
    "    [0,0,0],\n",
    "    [0,0,0],\n",
    "    [0,0,0]\n",
    "]\n",
    "\n",
    "for i in range(len(a)):\n",
    "    for j in range(len(a[0])):\n",
    "        for k in range(len(b)):\n",
    "            result[i][j]+=a[i][k]*b[k][j]\n",
    "\n",
    "for res in result:\n",
    "    print(res)"
   ]
  },
  {
   "cell_type": "code",
   "execution_count": 12,
   "id": "9b4cc1b7-be1b-4479-8fd4-5fb04aa7b5a8",
   "metadata": {},
   "outputs": [
    {
     "name": "stdout",
     "output_type": "stream",
     "text": [
      "Original:\n",
      " [[1, 2, 3], [2, 3, 4], [3, 4, 5]]\n",
      "Transposed:\n",
      "[1, 2, 3]\n",
      "[2, 3, 4]\n",
      "[3, 4, 5]\n"
     ]
    }
   ],
   "source": [
    "a=[\n",
    "    [1,2,3],\n",
    "    [2,3,4],\n",
    "    [3,4,5]\n",
    "]\n",
    "\n",
    "result=[\n",
    "    [0,0,0],\n",
    "    [0,0,0],\n",
    "    [0,0,0]\n",
    "]\n",
    "\n",
    "for i in range(len(a)):\n",
    "    for j in range(len(a[0])):\n",
    "        result[j][i]=a[i][j]\n",
    "\n",
    "print('Original:\\n',a)\n",
    "\n",
    "print('Transposed:')\n",
    "for res in result:\n",
    "    print(res)"
   ]
  },
  {
   "cell_type": "markdown",
   "id": "95adae7a-28ee-4253-9c90-074e5137f769",
   "metadata": {},
   "source": [
    "## Matrix inverse"
   ]
  },
  {
   "cell_type": "code",
   "execution_count": null,
   "id": "9949d568-834b-40d1-9fe2-a8cbb9b912b1",
   "metadata": {},
   "outputs": [],
   "source": [
    "print('Enter matrix')\n",
    "print('Matrix 1st row: eg. 2,4,5')\n",
    "print('matrix 2nd row: eg. -2,7,3')\n",
    "print('Matrix 3rd row: eg. 9,0,-1')\n",
    "\n",
    "# take input from the user, split it and then cast to int type\n",
    "a=input('Enter 1st row:')\n",
    "aa=a.split(\",\")\n",
    "for i in range(len(aa)):\n",
    "    aa[i]=int(aa[i])\n",
    "\n",
    "b=input('Enter 1st row:')\n",
    "bb=b.split(\",\")\n",
    "for i in range(len(bb)):\n",
    "    bb[i]=int(bb[i])\n",
    "\n",
    "c=input('Enter 1st row:')\n",
    "cc=c.split(\",\")\n",
    "for i in range(len(cc)):\n",
    "    cc[i]=int(cc[i])"
   ]
  },
  {
   "cell_type": "code",
   "execution_count": null,
   "id": "ee810263-901f-4261-87d9-b564ad04312b",
   "metadata": {},
   "outputs": [],
   "source": []
  },
  {
   "cell_type": "code",
   "execution_count": null,
   "id": "23060573-308e-47b2-add0-37cfede4929e",
   "metadata": {},
   "outputs": [],
   "source": []
  }
 ],
 "metadata": {
  "kernelspec": {
   "display_name": "Python 3 (ipykernel)",
   "language": "python",
   "name": "python3"
  },
  "language_info": {
   "codemirror_mode": {
    "name": "ipython",
    "version": 3
   },
   "file_extension": ".py",
   "mimetype": "text/x-python",
   "name": "python",
   "nbconvert_exporter": "python",
   "pygments_lexer": "ipython3",
   "version": "3.13.5"
  }
 },
 "nbformat": 4,
 "nbformat_minor": 5
}
