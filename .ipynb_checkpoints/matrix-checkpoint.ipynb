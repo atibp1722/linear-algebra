{
 "cells": [
  {
   "cell_type": "code",
   "execution_count": 1,
   "id": "42683dcf-f37b-4fe6-801c-00be93ca4e7d",
   "metadata": {},
   "outputs": [
    {
     "name": "stdout",
     "output_type": "stream",
     "text": [
      "[2, 4, 6]\n",
      "[4, 6, 8]\n",
      "[6, 8, 10]\n"
     ]
    }
   ],
   "source": [
    "a=[\n",
    "    [1,2,3],\n",
    "    [2,3,4],\n",
    "    [3,4,5]\n",
    "]\n",
    "\n",
    "b=[\n",
    "    [1,2,3],\n",
    "    [2,3,4],\n",
    "    [3,4,5]\n",
    "]\n",
    "\n",
    "result=[\n",
    "    [0,0,0],\n",
    "    [0,0,0],\n",
    "    [0,0,0]\n",
    "]\n",
    "\n",
    "for i in range(len(a)):\n",
    "    for j in range(len(a[0])):\n",
    "        result[i][j]=a[i][j]+b[i][j]\n",
    "\n",
    "for res in result:\n",
    "    print(res)"
   ]
  },
  {
   "cell_type": "code",
   "execution_count": 13,
   "id": "6f62c125-da6a-418e-b980-0200a489d56a",
   "metadata": {},
   "outputs": [
    {
     "name": "stdout",
     "output_type": "stream",
     "text": [
      "[30, 36, 42]\n",
      "[66, 81, 96]\n",
      "[102, 126, 150]\n"
     ]
    }
   ],
   "source": [
    "a=[\n",
    "    [1,2,3],\n",
    "    [4,5,6],\n",
    "    [7,8,9]\n",
    "]\n",
    "\n",
    "b=[\n",
    "    [1,2,3],\n",
    "    [4,5,6],\n",
    "    [7,8,9]\n",
    "]\n",
    "\n",
    "result=[\n",
    "    [0,0,0],\n",
    "    [0,0,0],\n",
    "    [0,0,0]\n",
    "]\n",
    "\n",
    "for i in range(len(a)):\n",
    "    for j in range(len(a[0])):\n",
    "        for k in range(len(b)):\n",
    "            result[i][j]+=a[i][k]*b[k][j]\n",
    "\n",
    "for res in result:\n",
    "    print(res)"
   ]
  },
  {
   "cell_type": "code",
   "execution_count": 12,
   "id": "9b4cc1b7-be1b-4479-8fd4-5fb04aa7b5a8",
   "metadata": {},
   "outputs": [
    {
     "name": "stdout",
     "output_type": "stream",
     "text": [
      "Original:\n",
      " [[1, 2, 3], [2, 3, 4], [3, 4, 5]]\n",
      "Transposed:\n",
      "[1, 2, 3]\n",
      "[2, 3, 4]\n",
      "[3, 4, 5]\n"
     ]
    }
   ],
   "source": [
    "a=[\n",
    "    [1,2,3],\n",
    "    [2,3,4],\n",
    "    [3,4,5]\n",
    "]\n",
    "\n",
    "result=[\n",
    "    [0,0,0],\n",
    "    [0,0,0],\n",
    "    [0,0,0]\n",
    "]\n",
    "\n",
    "for i in range(len(a)):\n",
    "    for j in range(len(a[0])):\n",
    "        result[j][i]=a[i][j]\n",
    "\n",
    "print('Original:\\n',a)\n",
    "\n",
    "print('Transposed:')\n",
    "for res in result:\n",
    "    print(res)"
   ]
  },
  {
   "cell_type": "markdown",
   "id": "95adae7a-28ee-4253-9c90-074e5137f769",
   "metadata": {},
   "source": [
    "## Matrix inverse"
   ]
  },
  {
   "cell_type": "code",
   "execution_count": 27,
   "id": "9949d568-834b-40d1-9fe2-a8cbb9b912b1",
   "metadata": {},
   "outputs": [
    {
     "name": "stdout",
     "output_type": "stream",
     "text": [
      "-------Enter 3x3 matrix-------\n",
      "Matrix 1st row: eg. 2,4,6\n",
      "Matrix 2nd row: eg. -1,5,3\n",
      "Matrix 3rd row: eg. 8,0,-9\n",
      "--------------------------\n"
     ]
    },
    {
     "name": "stdin",
     "output_type": "stream",
     "text": [
      "1st row elements: 1,2,3\n",
      "2nd row elements: 4,5,6\n",
      "3rd row elements: 7,8,9\n"
     ]
    },
    {
     "name": "stdout",
     "output_type": "stream",
     "text": [
      "--------------------------\n",
      "Matrix elements:\n",
      "1st row: [1, 2, 3]\n",
      "2ns row: [4, 5, 6]\n",
      "3rd row: [7, 8, 9]\n",
      "--------------------------\n",
      "Augmented matrix:\n",
      "   0  1  2  3  4  5\n",
      "0  1  2  3  1  0  0\n",
      "1  4  5  6  0  1  0\n",
      "2  7  8  9  0  0  1\n"
     ]
    }
   ],
   "source": [
    "import pandas as pd\n",
    "\n",
    "print('-------Enter 3x3 matrix-------')\n",
    "print('Matrix 1st row: eg. 2,4,6')\n",
    "print('Matrix 2nd row: eg. -1,5,3')\n",
    "print('Matrix 3rd row: eg. 8,0,-9')\n",
    "print('-'*26)\n",
    "\n",
    "# take input from the user, split it and then cast to int type\n",
    "a=input('1st row elements:')\n",
    "aa=a.split(\",\")\n",
    "for i in range(len(aa)):\n",
    "    aa[i]=int(aa[i])\n",
    "\n",
    "b=input('2nd row elements:')\n",
    "bb=b.split(\",\")\n",
    "for i in range(len(bb)):\n",
    "    bb[i]=int(bb[i])\n",
    "\n",
    "c=input('3rd row elements:')\n",
    "cc=c.split(\",\")\n",
    "for i in range(len(cc)):\n",
    "    cc[i]=int(cc[i])\n",
    "print('-'*26)   \n",
    "\n",
    "print('Matrix elements:')\n",
    "print('1st row:',aa)\n",
    "print('2ns row:',bb)\n",
    "print('3rd row:',cc)\n",
    "print('-'*26) \n",
    "\n",
    "# basic Gauss-Jordan (row by row elimination) implementation\n",
    "a11=aa[0]\n",
    "a12=aa[1]\n",
    "a13=aa[2]\n",
    "\n",
    "a21=bb[0]\n",
    "a22=bb[1]\n",
    "a23=bb[2]\n",
    "\n",
    "a31=cc[0]\n",
    "a32=cc[1]\n",
    "a33=cc[2]\n",
    "\n",
    "# add the inverse matrix elements at the end of matrix\n",
    "# i.e. augmented matrix\n",
    "l=[\n",
    "    [a11,a12,a13,1,0,0],\n",
    "    [a21,a22,a23,0,1,0],\n",
    "    [a31,a32,a33,0,0,1]\n",
    "]\n",
    "\n",
    "df=pd.DataFrame(l)\n",
    "print('Augmented matrix:')\n",
    "print(df)\n",
    "print('-'*26) "
   ]
  },
  {
   "cell_type": "code",
   "execution_count": null,
   "id": "ee810263-901f-4261-87d9-b564ad04312b",
   "metadata": {},
   "outputs": [],
   "source": []
  },
  {
   "cell_type": "code",
   "execution_count": null,
   "id": "23060573-308e-47b2-add0-37cfede4929e",
   "metadata": {},
   "outputs": [],
   "source": []
  }
 ],
 "metadata": {
  "kernelspec": {
   "display_name": "Python 3 (ipykernel)",
   "language": "python",
   "name": "python3"
  },
  "language_info": {
   "codemirror_mode": {
    "name": "ipython",
    "version": 3
   },
   "file_extension": ".py",
   "mimetype": "text/x-python",
   "name": "python",
   "nbconvert_exporter": "python",
   "pygments_lexer": "ipython3",
   "version": "3.13.5"
  }
 },
 "nbformat": 4,
 "nbformat_minor": 5
}
