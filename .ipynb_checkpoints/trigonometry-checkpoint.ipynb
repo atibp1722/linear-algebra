{
 "cells": [
  {
   "cell_type": "code",
   "execution_count": 2,
   "id": "7b94ec8f-36bd-4532-9fa0-54a5065a09b3",
   "metadata": {},
   "outputs": [],
   "source": [
    "import numpy as np"
   ]
  },
  {
   "cell_type": "code",
   "execution_count": 3,
   "id": "03b29020-5cf8-49d0-9a82-1bae60019f5e",
   "metadata": {},
   "outputs": [
    {
     "name": "stdout",
     "output_type": "stream",
     "text": [
      "1.0\n"
     ]
    }
   ],
   "source": [
    "test=np.sin(np.pi/2)\n",
    "print(test)"
   ]
  },
  {
   "cell_type": "code",
   "execution_count": 5,
   "id": "9d209d8d-5b5e-4011-907c-17496ddd6aea",
   "metadata": {},
   "outputs": [
    {
     "name": "stdout",
     "output_type": "stream",
     "text": [
      "[1.         0.8660254  0.70710678 0.58778525 0.5       ]\n"
     ]
    }
   ],
   "source": [
    "array=np.array([np.pi/2,np.pi/3,np.pi/4,np.pi/5,np.pi/6])\n",
    "n_array=np.sin(array)\n",
    "\n",
    "print(n_array)"
   ]
  },
  {
   "cell_type": "code",
   "execution_count": 8,
   "id": "bcd6f82f-0e19-4886-8e5a-d9a5de2df9c2",
   "metadata": {},
   "outputs": [
    {
     "name": "stdout",
     "output_type": "stream",
     "text": [
      "[0.78539816 1.57079633 3.14159265 4.71238898 6.28318531]\n"
     ]
    }
   ],
   "source": [
    "# degree to radian conversion\n",
    "array=np.array([45,90,180,270,360])\n",
    "n_array=np.deg2rad(array)\n",
    "\n",
    "print(n_array)"
   ]
  },
  {
   "cell_type": "code",
   "execution_count": 9,
   "id": "a9f02417-70ab-415c-8763-b4e58a49f036",
   "metadata": {},
   "outputs": [
    {
     "name": "stdout",
     "output_type": "stream",
     "text": [
      "[ 45.  90. 180. 270. 360.]\n"
     ]
    }
   ],
   "source": [
    "# radian to degree conversion\n",
    "array=np.array([np.pi/4,np.pi/2,np.pi,1.5*np.pi,2*np.pi])\n",
    "n_array=np.rad2deg(array)\n",
    "\n",
    "print(n_array)"
   ]
  },
  {
   "cell_type": "code",
   "execution_count": 10,
   "id": "4b0210dd-7983-47cd-adaa-3873ca9db51c",
   "metadata": {},
   "outputs": [
    {
     "name": "stdout",
     "output_type": "stream",
     "text": [
      "1.5707963267948966\n"
     ]
    }
   ],
   "source": [
    "# angular values of degree\n",
    "test=np.arcsin(1.0)\n",
    "\n",
    "print(test)"
   ]
  },
  {
   "cell_type": "code",
   "execution_count": 12,
   "id": "ad812c57-7761-4286-8a3f-8f9484b40118",
   "metadata": {},
   "outputs": [
    {
     "name": "stdout",
     "output_type": "stream",
     "text": [
      "[ 1.57079633 -1.57079633  0.10016742 -0.10016742]\n"
     ]
    }
   ],
   "source": [
    "array=np.array([1,-1,0.1,-0.1])\n",
    "n_array=np.arcsin(array)\n",
    "\n",
    "print(n_array)"
   ]
  },
  {
   "cell_type": "code",
   "execution_count": 14,
   "id": "b6ddc785-216b-4a99-9d5b-d45d0ce27abf",
   "metadata": {},
   "outputs": [
    {
     "name": "stdout",
     "output_type": "stream",
     "text": [
      "5.0\n"
     ]
    }
   ],
   "source": [
    "# finding hypotenuse value\n",
    "base=3\n",
    "perpen=4\n",
    "hypt=np.hypot(base,perpen)\n",
    "\n",
    "print(hypt)"
   ]
  },
  {
   "cell_type": "code",
   "execution_count": null,
   "id": "e4c4e6bf-7af7-4ff1-941b-0415dccf59b0",
   "metadata": {},
   "outputs": [],
   "source": []
  },
  {
   "cell_type": "code",
   "execution_count": null,
   "id": "dd52a4ea-4f0a-44e5-8334-85bd247f8673",
   "metadata": {},
   "outputs": [],
   "source": []
  }
 ],
 "metadata": {
  "kernelspec": {
   "display_name": "Python 3 (ipykernel)",
   "language": "python",
   "name": "python3"
  },
  "language_info": {
   "codemirror_mode": {
    "name": "ipython",
    "version": 3
   },
   "file_extension": ".py",
   "mimetype": "text/x-python",
   "name": "python",
   "nbconvert_exporter": "python",
   "pygments_lexer": "ipython3",
   "version": "3.13.5"
  }
 },
 "nbformat": 4,
 "nbformat_minor": 5
}
